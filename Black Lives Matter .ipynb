{
 "cells": [
  {
   "cell_type": "markdown",
   "metadata": {},
   "source": [
    "### \"The failure of the nation’s police to critically evaluate their own use of force, has led the United Nations Committee Against Torture to sharply criticize the ever growing militarization of police departments in the United States, especially as evidence of significant race-based and sexuality-based brutality and excessive use of force has been uncovered, including bonafide acts of torture (e.g., those committed by Chicago Police Commander Jon Burge and others under his command, between 1972 and 1991).\"\n",
    "\n",
    "Ross, Cody T. “A Multi-Level Bayesian Analysis of Racial Bias in Police Shootings at the County-Level in the United States, 2011-2014.” PloS One, Public Library of Science, 5 Nov. 2015, www.ncbi.nlm.nih.gov/pmc/articles/PMC4634878/?fbclid=IwAR0mmAYVAJxicCw3-dka-9LM49xlspsSU5kzixMPKvV7l-GbDMrvgU8x2J8#pone.0141854.ref001."
   ]
  },
  {
   "cell_type": "markdown",
   "metadata": {},
   "source": [
    "###  \" The maps and charts on this site aim to provide us with the answers we need. They include information on 1,111 known police killings in 2013, 1,059 killings in 2014, 1,103 killings in 2015, 1,071  killings in 2016, 1,095 killings in 2017, 1,143 killings in 2018 and 1,099 killings in 2019. 95 percent of the killings in our database occurred while a police officer was acting in a law enforcement capacity. Importantly, these data do not include killings by vigilantes or security guards who are not off-duty police officers. ....estimates suggest that our database captures 92% of the total number of police killings that have occurred since 2013. \"\n",
    "\n",
    "website - https://mappingpoliceviolence.org/\n",
    "\n",
    "Methodology and data - https://mappingpoliceviolence.org/aboutthedata"
   ]
  },
  {
   "cell_type": "markdown",
   "metadata": {},
   "source": [
    "<img src=\"https://github.com/zivzach/MLBrepo/blob/master/images/mappingpolicevilence.png?raw=true\" width=\"1000\" height=\"1000\" />"
   ]
  },
  {
   "cell_type": "markdown",
   "metadata": {},
   "source": [
    "### The Post’s data relies primarily on news accounts, social media postings and police reports. Analysis of more than five years of data reveals that the number and circumstances of fatal shootings and the overall demographics of the victims have remained relatively constant....Although half of the people shot and killed by police are white, black Americans are shot at a disproportionate rate. They account for less than 13 percent of the U.S. population, but are killed by police at more than twice the rate of white Americans. Hispanic Americans are also killed by police at a disproportionate rate....This database contains records of every fatal shooting in the United States by a police officer in the line of duty since Jan. 1, 2015. It is updated regularly as fatal shootings are reported and as facts emerge about individual cases."
   ]
  },
  {
   "cell_type": "markdown",
   "metadata": {},
   "source": [
    "<img src=\"https://github.com/zivzach/MLBrepo/blob/master/images/wapo.PNG?raw=true\" width=\"1000\" height=\"1000\" />"
   ]
  },
  {
   "cell_type": "markdown",
   "metadata": {},
   "source": [
    "### \". The results provide evidence of a significant bias in the killing of unarmed black Americans relative to unarmed white Americans, in that the probability of being {black, unarmed, and shot by police} is about 3.49 times the probability of being {white, unarmed, and shot by police} on average. Furthermore, the results of multi-level modeling show that there exists significant heterogeneity across counties in the extent of racial bias in police shootings, with some counties showing relative risk ratios of 20 to 1 or more. Finally, analysis of police shooting data as a function of county-level predictors suggests that racial bias in police shootings is most likely to emerge in police departments in larger metropolitan counties with low median incomes and a sizable portion of black residents, especially when there is high financial inequality in that county. There is no relationship between county-level racial bias in police shootings and crime rates (even race-specific crime rates), meaning that the racial bias observed in police shootings in this data set is not explainable as a response to local-level crime rates.\"\n",
    "\n",
    "- article https://www.ncbi.nlm.nih.gov/pmc/articles/PMC4634878/?fbclid=IwAR0mmAYVAJxicCw3-dka-9LM49xlspsSU5kzixMPKvV7l-GbDMrvgU8x2J8#pone.0141854.ref001\n",
    "\n",
    "- dataset here https://docs.google.com/spreadsheets/u/1/d/1cEGQ3eAFKpFBVq1k2mZIy5mBPxC6nBTJHzuSWtZQSVw/edit?usp=sharing\n"
   ]
  },
  {
   "cell_type": "code",
   "execution_count": null,
   "metadata": {},
   "outputs": [],
   "source": []
  }
 ],
 "metadata": {
  "kernelspec": {
   "display_name": "Python 3",
   "language": "python",
   "name": "python3"
  },
  "language_info": {
   "codemirror_mode": {
    "name": "ipython",
    "version": 3
   },
   "file_extension": ".py",
   "mimetype": "text/x-python",
   "name": "python",
   "nbconvert_exporter": "python",
   "pygments_lexer": "ipython3",
   "version": "3.7.4"
  }
 },
 "nbformat": 4,
 "nbformat_minor": 2
}
