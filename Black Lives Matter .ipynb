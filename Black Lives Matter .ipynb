{
 "cells": [
  {
   "cell_type": "markdown",
   "metadata": {},
   "source": [
    "### \"The failure of the nation’s police to critically evaluate their own use of force, has led the United Nations Committee Against Torture to sharply criticize the ever growing militarization of police departments in the United States, especially as evidence of significant race-based and sexuality-based brutality and excessive use of force has been uncovered, including bonafide acts of torture (e.g., those committed by Chicago Police Commander Jon Burge and others under his command, between 1972 and 1991).\"\n",
    "\n",
    "Ross, Cody T. “A Multi-Level Bayesian Analysis of Racial Bias in Police Shootings at the County-Level in the United States, 2011-2014.” PloS One, Public Library of Science, 5 Nov. 2015, www.ncbi.nlm.nih.gov/pmc/articles/PMC4634878/?fbclid=IwAR0mmAYVAJxicCw3-dka-9LM49xlspsSU5kzixMPKvV7l-GbDMrvgU8x2J8#pone.0141854.ref001."
   ]
  },
  {
   "cell_type": "markdown",
   "metadata": {},
   "source": [
    "<img src=\"https://github.com/zivzach/MLBrepo/blob/master/images/criminal%20justice.png?raw=true\" width=\"1000\" height=\"1000\" />"
   ]
  },
  {
   "cell_type": "markdown",
   "metadata": {},
   "source": [
    "source: https://www.sentencingproject.org/the-facts/#detail?state1Option=U.S.%20Total&state2Option=0"
   ]
  },
  {
   "cell_type": "markdown",
   "metadata": {},
   "source": [
    "### \"There are 2.2 million people in the nation’s prisons and jails—a 500% increase over the last 40 years. Changes in law and policy, not changes in crime rates, explain most of this increase. The results are overcrowding in prisons and fiscal burdens on states, despite increasing evidence that large-scale incarceration is not an effective means of achieving public safety.\""
   ]
  },
  {
   "cell_type": "markdown",
   "metadata": {},
   "source": [
    "<img src=\"https://github.com/zivzach/MLBrepo/blob/master/images/sentencing.PNG?raw=true\" width=\"1000\" height=\"1000\" />"
   ]
  },
  {
   "cell_type": "markdown",
   "metadata": {},
   "source": [
    "soure : https://www.sentencingproject.org/criminal-justice-facts/"
   ]
  },
  {
   "cell_type": "markdown",
   "metadata": {},
   "source": [
    "### \"While black incarceration rates have declined—and white incarceration rates have risen—over the past several decades, the lack of complete and accurate data prevents effective analyses of the causes and drivers of these trends and on racial disparities more broadly in the justice system.....The vast majority of existing data on jail incarceration—from the Bureau of Justice Statistics’ (BJS) Annual Survey of Jails and its Census of Jails—is not sorted by race or ethnicity....BJS only reports the racial breakdown of the country’s jail population on a selected snapshot date, but not for jail admissions—which is the biggest measure of the vast reach of jails...Directly wrestling with the issue of race and incarceration remains uncomfortable ground because it forces people to confront a deep legacy of racism and its connection to our system of incarceration in this country, past and present.....black people are still 3.6x more likely to be incarcerated in local jauls nationally than white people...between 20015 and 2013, the black jail incarceration rate declinded by 20% natonally.\""
   ]
  },
  {
   "cell_type": "markdown",
   "metadata": {},
   "source": [
    "<img src=\"https://github.com/zivzach/MLBrepo/blob/master/images/vera.png?raw=true\" width=\"1000\" height=\"1000\" />"
   ]
  },
  {
   "attachments": {},
   "cell_type": "markdown",
   "metadata": {},
   "source": [
    "### \"Police enforcement, that is an arrest, or giving someone a summons or citation, is wide-reaching and is the first step someone takes into the criminal justice system. Enforcement of all forms but arrests in particular have substantial effects on communities, officers, and the nation. This interactive visualization tool enables users to better understand arrests.\""
   ]
  },
  {
   "cell_type": "markdown",
   "metadata": {},
   "source": [
    "<img src=\"https://github.com/zivzach/MLBrepo/blob/master/images/vera2.png?raw=true\" width=\"1000\" height=\"1000\" />"
   ]
  },
  {
   "cell_type": "markdown",
   "metadata": {},
   "source": [
    "source: https://www.vera.org/projects/visualizing-arrest-trends"
   ]
  },
  {
   "cell_type": "markdown",
   "metadata": {},
   "source": [
    "###  \" The maps and charts on this site aim to provide us with the answers we need. They include information on 1,111 known police killings in 2013, 1,059 killings in 2014, 1,103 killings in 2015, 1,071  killings in 2016, 1,095 killings in 2017, 1,143 killings in 2018 and 1,099 killings in 2019. 95 percent of the killings in our database occurred while a police officer was acting in a law enforcement capacity. Importantly, these data do not include killings by vigilantes or security guards who are not off-duty police officers. ....estimates suggest that our database captures 92% of the total number of police killings that have occurred since 2013. \"\n",
    "\n",
    "website - https://mappingpoliceviolence.org/\n",
    "\n",
    "Methodology and data - https://mappingpoliceviolence.org/aboutthedata"
   ]
  },
  {
   "cell_type": "markdown",
   "metadata": {},
   "source": [
    "<img src=\"https://github.com/zivzach/MLBrepo/blob/master/images/mappingpolicevilence.png?raw=true\" width=\"1000\" height=\"1000\" />"
   ]
  },
  {
   "cell_type": "markdown",
   "metadata": {},
   "source": [
    "### The Post’s data relies primarily on news accounts, social media postings and police reports. Analysis of more than five years of data reveals that the number and circumstances of fatal shootings and the overall demographics of the victims have remained relatively constant....Although half of the people shot and killed by police are white, black Americans are shot at a disproportionate rate. They account for less than 13 percent of the U.S. population, but are killed by police at more than twice the rate of white Americans. Hispanic Americans are also killed by police at a disproportionate rate....This database contains records of every fatal shooting in the United States by a police officer in the line of duty since Jan. 1, 2015. It is updated regularly as fatal shootings are reported and as facts emerge about individual cases."
   ]
  },
  {
   "cell_type": "markdown",
   "metadata": {},
   "source": [
    "<img src=\"https://github.com/zivzach/MLBrepo/blob/master/images/wapo.PNG?raw=true\" width=\"1000\" height=\"1000\" />"
   ]
  },
  {
   "cell_type": "markdown",
   "metadata": {},
   "source": [
    "### \"Since the beginning of 2005 (through June 24, 2019), there have been 104 nonfederal sworn law enforcement officers with the general powers of arrest (e.g., police officers, deputy sheriffs, state troopers, etc.) who have been arrested for murder or manslaughter resulting from an on-duty shooting where the officer shot and killed someone at incidents throughout the United States. Of those 104 officers, to date only 35 have been convicted of a crime resulting from the on-duty shooting (15 by guilty plea, 20 by jury trial, and none convicted by a bench trial). In the cases where an officer has been convicted, it is often for a lesser offense. Only 4 officers have been convicted of murder (there were four officers whose murder convictions were overturned, but the officers were later convicted of federal crimes arising out of the same incident).\"\n",
    "\n",
    "source : \"https://scholarworks.bgsu.edu/cgi/viewcontent.cgi?article=1100&amp;context=crim_just_pub\"\n",
    "\n",
    "searchable daatabase: https://policecrime.bgsu.edu/"
   ]
  },
  {
   "cell_type": "markdown",
   "metadata": {},
   "source": [
    "<img src=\"https://github.com/zivzach/MLBrepo/blob/master/images/vice.png?raw=true\" width=\"1000\" height=\"1000\" />"
   ]
  },
  {
   "cell_type": "markdown",
   "metadata": {},
   "source": [
    "source: https://news.vice.com/en_us/article/595kv3/police-crime-database"
   ]
  },
  {
   "cell_type": "markdown",
   "metadata": {},
   "source": [
    "### \". The results provide evidence of a significant bias in the killing of unarmed black Americans relative to unarmed white Americans, in that the probability of being {black, unarmed, and shot by police} is about 3.49 times the probability of being {white, unarmed, and shot by police} on average. Furthermore, the results of multi-level modeling show that there exists significant heterogeneity across counties in the extent of racial bias in police shootings, with some counties showing relative risk ratios of 20 to 1 or more. Finally, analysis of police shooting data as a function of county-level predictors suggests that racial bias in police shootings is most likely to emerge in police departments in larger metropolitan counties with low median incomes and a sizable portion of black residents, especially when there is high financial inequality in that county. There is no relationship between county-level racial bias in police shootings and crime rates (even race-specific crime rates), meaning that the racial bias observed in police shootings in this data set is not explainable as a response to local-level crime rates.\"\n",
    "\n",
    "- article https://www.ncbi.nlm.nih.gov/pmc/articles/PMC4634878/?fbclid=IwAR0mmAYVAJxicCw3-dka-9LM49xlspsSU5kzixMPKvV7l-GbDMrvgU8x2J8#pone.0141854.ref001\n",
    "\n",
    "- dataset here https://docs.google.com/spreadsheets/u/1/d/1cEGQ3eAFKpFBVq1k2mZIy5mBPxC6nBTJHzuSWtZQSVw/edit?usp=sharing\n"
   ]
  }
 ],
 "metadata": {
  "kernelspec": {
   "display_name": "Python 3",
   "language": "python",
   "name": "python3"
  },
  "language_info": {
   "codemirror_mode": {
    "name": "ipython",
    "version": 3
   },
   "file_extension": ".py",
   "mimetype": "text/x-python",
   "name": "python",
   "nbconvert_exporter": "python",
   "pygments_lexer": "ipython3",
   "version": "3.7.4"
  }
 },
 "nbformat": 4,
 "nbformat_minor": 2
}
